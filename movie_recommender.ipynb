{
 "cells": [
  {
   "cell_type": "markdown",
   "metadata": {},
   "source": [
    "# Movie Recommender System"
   ]
  },
  {
   "cell_type": "code",
   "execution_count": 1,
   "metadata": {
    "collapsed": true
   },
   "outputs": [],
   "source": [
    "import numpy as np\n",
    "import numexpr as ne\n",
    "import scipy.io\n",
    "from scipy import optimize\n",
    "import matplotlib.pyplot as plt\n",
    "\n",
    "%matplotlib inline"
   ]
  },
  {
   "cell_type": "raw",
   "metadata": {},
   "source": [
    "## Movie ratings dataset"
   ]
  },
  {
   "cell_type": "code",
   "execution_count": 2,
   "metadata": {
    "collapsed": true
   },
   "outputs": [],
   "source": [
    "ex8_movies = scipy.io.loadmat('data/ex8_movies.mat')\n",
    "Y = ex8_movies['Y']\n",
    "R = ex8_movies['R']"
   ]
  },
  {
   "cell_type": "code",
   "execution_count": 3,
   "metadata": {
    "collapsed": false
   },
   "outputs": [
    {
     "name": "stdout",
     "output_type": "stream",
     "text": [
      "Y.shape = (1682, 943)\n",
      "R.shape = (1682, 943)\n"
     ]
    }
   ],
   "source": [
    "print('Y.shape =', Y.shape)\n",
    "print('R.shape =', R.shape)"
   ]
  },
  {
   "cell_type": "code",
   "execution_count": 4,
   "metadata": {
    "collapsed": true
   },
   "outputs": [],
   "source": [
    "# Parameter definitions\n",
    "n = 100\n",
    "n_m = np.size(Y, axis=0)\n",
    "n_u = np.size(Y, axis=1)"
   ]
  },
  {
   "cell_type": "markdown",
   "metadata": {},
   "source": [
    "## Collaborative filtering cost function"
   ]
  },
  {
   "cell_type": "code",
   "execution_count": 5,
   "metadata": {
    "collapsed": true
   },
   "outputs": [],
   "source": [
    "def cofi_cost(params, Y, R, num_users, num_movies, num_features, lamb):\n",
    "    n = num_features\n",
    "    n_u = num_users\n",
    "    n_m = num_movies\n",
    "    X = params[:n_m * n].reshape(n_m, n) # n_m x n\n",
    "    Theta = params[n_m * n:].reshape(n_u, n) # n_u x n\n",
    "    Y_rated = Y * R\n",
    "    diff = (X @ Theta.T - Y_rated) * R # n_m x n_u\n",
    "    # Compute cost\n",
    "    X_reg_val = lamb/2 * np.sum(np.square(X))\n",
    "    Theta_reg_val = lamb/2 * np.sum(np.square(Theta))\n",
    "    J = 0.5 * np.sum(np.square(diff)) + X_reg_val + Theta_reg_val\n",
    "    return J"
   ]
  },
  {
   "cell_type": "code",
   "execution_count": 6,
   "metadata": {
    "collapsed": true
   },
   "outputs": [],
   "source": [
    "def cofi_grad(params, Y, R, num_users, num_movies, num_features, lamb):\n",
    "    n = num_features\n",
    "    n_u = num_users\n",
    "    n_m = num_movies\n",
    "    X = params[:n_m * n].reshape(n_m, n) # n_m x n\n",
    "    Theta = params[n_m * n:].reshape(n_u, n) # n_u x n\n",
    "    Y_rated = Y * R\n",
    "    diff = (X @ Theta.T - Y_rated) * R # n_m x n_u\n",
    "    # Compute gradient respect to x\n",
    "    X_grad = diff @ Theta + lamb * X # n_m x n\n",
    "    Theta_grad = diff.T @ X + lamb * Theta # n_u x n\n",
    "    # Flatten gradient arrays\n",
    "    X_grad = X_grad.reshape(1, n_m * n)\n",
    "    Theta_grad = Theta_grad.reshape(1, n_u * n)\n",
    "    grad = np.append(X_grad, Theta_grad)\n",
    "    return grad"
   ]
  },
  {
   "cell_type": "markdown",
   "metadata": {},
   "source": [
    "### Test cost function"
   ]
  },
  {
   "cell_type": "code",
   "execution_count": 7,
   "metadata": {
    "collapsed": false
   },
   "outputs": [],
   "source": [
    "ex8_movieParams = scipy.io.loadmat('data/ex8_movieParams.mat')\n",
    "X = ex8_movieParams['X']\n",
    "Theta = ex8_movieParams['Theta']"
   ]
  },
  {
   "cell_type": "code",
   "execution_count": 8,
   "metadata": {
    "collapsed": false
   },
   "outputs": [
    {
     "name": "stdout",
     "output_type": "stream",
     "text": [
      "X.shape = (1682, 10)\n",
      "Theta.shape = (943, 10)\n"
     ]
    }
   ],
   "source": [
    "print('X.shape =', X.shape)\n",
    "print('Theta.shape =', Theta.shape)"
   ]
  },
  {
   "cell_type": "code",
   "execution_count": 9,
   "metadata": {
    "collapsed": true
   },
   "outputs": [],
   "source": [
    "# Get ready to call cofi_cost\n",
    "n_u = 4\n",
    "n_m = 5\n",
    "n = 3;\n",
    "X_test = X[:n_m, :n]\n",
    "Theta_test = Theta[:n_u, :n]\n",
    "params = np.append(X_test.flatten(), Theta_test.flatten())\n",
    "Y_test = Y[:n_m, :n_u];\n",
    "R_test = R[:n_m, :n_u];"
   ]
  },
  {
   "cell_type": "code",
   "execution_count": 10,
   "metadata": {
    "collapsed": false
   },
   "outputs": [
    {
     "name": "stdout",
     "output_type": "stream",
     "text": [
      "Actual: 22.22\n",
      "Expected: 22.22\n"
     ]
    }
   ],
   "source": [
    "# Check value\n",
    "J = cofi_cost(params, Y_test, R_test, n_u, n_m, n, 0)\n",
    "actual_str = '{0:.2f}'.format(J)\n",
    "expected_str = '{0:.2f}'.format(22.22)\n",
    "print('Actual: {0}'.format(actual_str))\n",
    "print('Expected: {0}'.format(expected_str))\n",
    "assert actual_str == expected_str"
   ]
  },
  {
   "cell_type": "code",
   "execution_count": 11,
   "metadata": {
    "collapsed": false
   },
   "outputs": [
    {
     "name": "stdout",
     "output_type": "stream",
     "text": [
      "Number of users: 943\n",
      "Number of movies: 1682\n",
      "Number of movie * user: 1586126\n",
      "Number of ratings: 100000\n",
      "Rated ratio: 6.30%\n"
     ]
    }
   ],
   "source": [
    "n = 100\n",
    "n_u = np.size(Y, axis=1)\n",
    "n_m = np.size(Y, axis=0)\n",
    "lamb = 0\n",
    "# X_init = np.random.rand()\n",
    "print('Number of users:', n_u)\n",
    "print('Number of movies:', n_m)\n",
    "print('Number of movie * user:', n_u * n_m)\n",
    "print('Number of ratings:', np.count_nonzero(R))\n",
    "print('Rated ratio: {0:.2f}%'.format(np.count_nonzero(R) / (n_u * n_m)* 100))"
   ]
  },
  {
   "cell_type": "code",
   "execution_count": 12,
   "metadata": {
    "collapsed": true
   },
   "outputs": [],
   "source": [
    "X_init = np.random.rand(n_m, n) - 0.5\n",
    "Theta_init = np.random.rand(n_u, n) - 0.5\n",
    "params = np.append(X_init.reshape(1, n_m * n), Theta_init.reshape(1, n_u * n))"
   ]
  },
  {
   "cell_type": "code",
   "execution_count": 13,
   "metadata": {
    "collapsed": false
   },
   "outputs": [
    {
     "name": "stdout",
     "output_type": "stream",
     "text": [
      "Optimization terminated successfully.\n",
      "         Current function value: 0.000000\n",
      "         Iterations: 4662\n",
      "         Function evaluations: 7006\n",
      "         Gradient evaluations: 7006\n",
      "[ 0.85764535  0.09093657 -0.14825556 ...,  0.15758502  0.27025324\n",
      "  0.52137769]\n"
     ]
    }
   ],
   "source": [
    "args = Y, R, n_u, n_m, n, lamb\n",
    "res = optimize.fmin_cg(f=cofi_cost, x0=params, fprime=cofi_grad, args=args)\n",
    "print(res)"
   ]
  },
  {
   "cell_type": "code",
   "execution_count": 17,
   "metadata": {
    "collapsed": false
   },
   "outputs": [],
   "source": [
    "X = res[:n_m * n].reshape(n_m, n)\n",
    "Theta = res[n_m * n:].reshape(n_u, n)"
   ]
  },
  {
   "cell_type": "code",
   "execution_count": null,
   "metadata": {
    "collapsed": true
   },
   "outputs": [],
   "source": []
  }
 ],
 "metadata": {
  "kernelspec": {
   "display_name": "Python 3",
   "language": "python",
   "name": "python3"
  },
  "language_info": {
   "codemirror_mode": {
    "name": "ipython",
    "version": 3
   },
   "file_extension": ".py",
   "mimetype": "text/x-python",
   "name": "python",
   "nbconvert_exporter": "python",
   "pygments_lexer": "ipython3",
   "version": "3.5.2"
  }
 },
 "nbformat": 4,
 "nbformat_minor": 1
}
